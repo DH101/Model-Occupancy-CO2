{
 "cells": [
  {
   "cell_type": "code",
   "execution_count": 1,
   "metadata": {},
   "outputs": [],
   "source": [
    "# Conventional way to import pandas\n",
    "import pandas as pd\n",
    "# Conventional way to import seaborn\n",
    "import seaborn as sns\n",
    "# Conventional way to import train_test_split that splits sets into training and testing sets\n",
    "from sklearn.model_selection import train_test_split\n",
    "# Conventional way to import numpy\n",
    "import numpy as np\n",
    "# Conventional way to import pyplot\n",
    "import matplotlib.pyplot as plt\n",
    "# Import r2 score to compare models. Tells me how well data fits to the model. How close data to line. Higher is better\n",
    "from sklearn.metrics import r2_score\n",
    "# Import mean squared error to get prediction errors. How far data points are from the regression line. Lower is better. Used after r2 as it does not determine whether coefficient estimates and predictions are biased (checks if there are more data under the line and more data above the line which r2 score can't do) \n",
    "from sklearn.metrics import mean_squared_error\n",
    "# Import ElasticNet model\n",
    "from sklearn.linear_model import ElasticNet\n",
    "# Import Ridge Model\n",
    "from sklearn.linear_model import Ridge\n",
    "# Import Lasso Model\n",
    "from sklearn.linear_model import Lasso\n",
    "\n",
    "# Allow plots to appear within the notebook\n",
    "%matplotlib inline"
   ]
  },
  {
   "cell_type": "code",
   "execution_count": 2,
   "metadata": {},
   "outputs": [],
   "source": [
    "# --- Importing datasets ---\n",
    "# Save the Paths to CSV data\n",
    "all_room_observation_path = r'C:\\Users\\deano\\OneDrive\\Documents\\University_Courses\\Year_Three\\CSC3095_Dissertation\\Datasets\\CSV_Format\\AllData\\LastObservationOfCO2AndOccupants.csv'\n",
    "room_A_observation_path = r'C:\\Users\\deano\\OneDrive\\Documents\\University_Courses\\Year_Three\\CSC3095_Dissertation\\Datasets\\CSV_Format\\RoomA\\RoomAObservationsOfCO2AndOccupants.csv'\n",
    "room_A_and_D_observation_path = r'C:\\Users\\deano\\OneDrive\\Documents\\University_Courses\\Year_Three\\CSC3095_Dissertation\\Datasets\\CSV_Format\\RoomAandD\\RoomAAndDObservationsOfCO2AndOccupants.csv'\n",
    "room_B_observation_path = r'C:\\Users\\deano\\OneDrive\\Documents\\University_Courses\\Year_Three\\CSC3095_Dissertation\\Datasets\\CSV_Format\\RoomB\\RoomBObservationsOfCO2AndOccupants.csv'\n",
    "room_B_and_C_observation_path = r'C:\\Users\\deano\\OneDrive\\Documents\\University_Courses\\Year_Three\\CSC3095_Dissertation\\Datasets\\CSV_Format\\RoomBandC\\RoomBAndCObservationsOfCO2AndOccupants.csv'\n",
    "room_C_observation_path = r'C:\\Users\\deano\\OneDrive\\Documents\\University_Courses\\Year_Three\\CSC3095_Dissertation\\Datasets\\CSV_Format\\RoomC\\RoomCObservationsOfCO2AndOccupants.csv'\n",
    "room_D_observation_path = r'C:\\Users\\deano\\OneDrive\\Documents\\University_Courses\\Year_Three\\CSC3095_Dissertation\\Datasets\\CSV_Format\\RoomD\\RoomDObservationsOfCO2AndOccupants.csv'"
   ]
  },
  {
   "cell_type": "code",
   "execution_count": 3,
   "metadata": {},
   "outputs": [],
   "source": [
    "# Save a dictionary of all Paths to CSV files\n",
    "observations = {'all_rooms': all_room_observation_path, 'room_A': room_A_observation_path, 'room_A_and_D': room_A_and_D_observation_path, 'room_B': room_B_observation_path, 'room_B_and_C': room_B_and_C_observation_path, 'room_C': room_C_observation_path, 'room_D': room_D_observation_path}"
   ]
  },
  {
   "cell_type": "code",
   "execution_count": 4,
   "metadata": {
    "scrolled": false
   },
   "outputs": [],
   "source": [
    "# Read Observations CSV file directly from file path and save results\n",
    "data_observations = pd.read_csv(observations['all_rooms'])"
   ]
  },
  {
   "cell_type": "code",
   "execution_count": 5,
   "metadata": {
    "scrolled": true
   },
   "outputs": [
    {
     "data": {
      "text/html": [
       "<div>\n",
       "<style scoped>\n",
       "    .dataframe tbody tr th:only-of-type {\n",
       "        vertical-align: middle;\n",
       "    }\n",
       "\n",
       "    .dataframe tbody tr th {\n",
       "        vertical-align: top;\n",
       "    }\n",
       "\n",
       "    .dataframe thead th {\n",
       "        text-align: right;\n",
       "    }\n",
       "</style>\n",
       "<table border=\"1\" class=\"dataframe\">\n",
       "  <thead>\n",
       "    <tr style=\"text-align: right;\">\n",
       "      <th></th>\n",
       "      <th>CO2</th>\n",
       "      <th>Occupants</th>\n",
       "    </tr>\n",
       "  </thead>\n",
       "  <tbody>\n",
       "    <tr>\n",
       "      <th>0</th>\n",
       "      <td>548.00</td>\n",
       "      <td>0</td>\n",
       "    </tr>\n",
       "    <tr>\n",
       "      <th>1</th>\n",
       "      <td>661.76</td>\n",
       "      <td>1</td>\n",
       "    </tr>\n",
       "    <tr>\n",
       "      <th>2</th>\n",
       "      <td>465.95</td>\n",
       "      <td>10</td>\n",
       "    </tr>\n",
       "    <tr>\n",
       "      <th>3</th>\n",
       "      <td>478.72</td>\n",
       "      <td>12</td>\n",
       "    </tr>\n",
       "    <tr>\n",
       "      <th>4</th>\n",
       "      <td>482.88</td>\n",
       "      <td>0</td>\n",
       "    </tr>\n",
       "  </tbody>\n",
       "</table>\n",
       "</div>"
      ],
      "text/plain": [
       "      CO2  Occupants\n",
       "0  548.00          0\n",
       "1  661.76          1\n",
       "2  465.95         10\n",
       "3  478.72         12\n",
       "4  482.88          0"
      ]
     },
     "execution_count": 5,
     "metadata": {},
     "output_type": "execute_result"
    }
   ],
   "source": [
    "# --- Data Exploration ---\n",
    "\n",
    "# Display the first 5 rows of CSV file to verify it's the correct file\n",
    "data_observations.head()"
   ]
  },
  {
   "cell_type": "code",
   "execution_count": 6,
   "metadata": {
    "scrolled": false
   },
   "outputs": [
    {
     "data": {
      "text/html": [
       "<div>\n",
       "<style scoped>\n",
       "    .dataframe tbody tr th:only-of-type {\n",
       "        vertical-align: middle;\n",
       "    }\n",
       "\n",
       "    .dataframe tbody tr th {\n",
       "        vertical-align: top;\n",
       "    }\n",
       "\n",
       "    .dataframe thead th {\n",
       "        text-align: right;\n",
       "    }\n",
       "</style>\n",
       "<table border=\"1\" class=\"dataframe\">\n",
       "  <thead>\n",
       "    <tr style=\"text-align: right;\">\n",
       "      <th></th>\n",
       "      <th>CO2</th>\n",
       "      <th>Occupants</th>\n",
       "    </tr>\n",
       "  </thead>\n",
       "  <tbody>\n",
       "    <tr>\n",
       "      <th>86</th>\n",
       "      <td>535.12</td>\n",
       "      <td>23</td>\n",
       "    </tr>\n",
       "    <tr>\n",
       "      <th>87</th>\n",
       "      <td>540.80</td>\n",
       "      <td>1</td>\n",
       "    </tr>\n",
       "    <tr>\n",
       "      <th>88</th>\n",
       "      <td>497.92</td>\n",
       "      <td>4</td>\n",
       "    </tr>\n",
       "    <tr>\n",
       "      <th>89</th>\n",
       "      <td>563.84</td>\n",
       "      <td>0</td>\n",
       "    </tr>\n",
       "    <tr>\n",
       "      <th>90</th>\n",
       "      <td>682.88</td>\n",
       "      <td>2</td>\n",
       "    </tr>\n",
       "  </tbody>\n",
       "</table>\n",
       "</div>"
      ],
      "text/plain": [
       "       CO2  Occupants\n",
       "86  535.12         23\n",
       "87  540.80          1\n",
       "88  497.92          4\n",
       "89  563.84          0\n",
       "90  682.88          2"
      ]
     },
     "execution_count": 6,
     "metadata": {},
     "output_type": "execute_result"
    }
   ],
   "source": [
    "# Display the last 5 rows\n",
    "data_observations.tail()"
   ]
  },
  {
   "cell_type": "code",
   "execution_count": 7,
   "metadata": {
    "scrolled": true
   },
   "outputs": [
    {
     "data": {
      "text/plain": [
       "CO2          float64\n",
       "Occupants      int64\n",
       "dtype: object"
      ]
     },
     "execution_count": 7,
     "metadata": {},
     "output_type": "execute_result"
    }
   ],
   "source": [
    "# Display the different datatypes available\n",
    "data_observations.dtypes"
   ]
  },
  {
   "cell_type": "code",
   "execution_count": 8,
   "metadata": {},
   "outputs": [
    {
     "data": {
      "text/plain": [
       "(91, 2)"
      ]
     },
     "execution_count": 8,
     "metadata": {},
     "output_type": "execute_result"
    }
   ],
   "source": [
    "# Check the shape of the Dataframe (rows, columns)\n",
    "data_observations.shape"
   ]
  },
  {
   "cell_type": "code",
   "execution_count": 9,
   "metadata": {},
   "outputs": [],
   "source": [
    "# --- Data Visualization ---\n",
    "\n",
    "# Set the background colour of the plots to white\n",
    "sns.set(style=\"whitegrid\", color_codes=True)"
   ]
  },
  {
   "cell_type": "code",
   "execution_count": 10,
   "metadata": {
    "scrolled": false
   },
   "outputs": [
    {
     "data": {
      "text/plain": [
       "<matplotlib.axes._subplots.AxesSubplot at 0x11e6ff90>"
      ]
     },
     "execution_count": 10,
     "metadata": {},
     "output_type": "execute_result"
    },
    {
     "data": {
      "image/png": "[encoded data removed]",
      "text/plain": [
       "<Figure size 432x288 with 1 Axes>"
      ]
     },
     "metadata": {},
     "output_type": "display_data"
    }
   ],
   "source": [
    "sns.countplot('Occupants', data=data_observations)"
   ]
  },
  {
   "cell_type": "code",
   "execution_count": 11,
   "metadata": {},
   "outputs": [
    {
     "data": {
      "text/plain": [
       "<matplotlib.axes._subplots.AxesSubplot at 0x12f437b0>"
      ]
     },
     "execution_count": 11,
     "metadata": {},
     "output_type": "execute_result"
    },
    {
     "data": {
      "image/png": "[encoded data removed]",
      "text/plain": [
       "<Figure size 432x288 with 1 Axes>"
      ]
     },
     "metadata": {},
     "output_type": "display_data"
    }
   ],
   "source": [
    "# Plots violin plot to see distribution of data\n",
    "sns.violinplot(data=data_observations)"
   ]
  },
  {
   "cell_type": "code",
   "execution_count": 12,
   "metadata": {
    "scrolled": true
   },
   "outputs": [
    {
     "data": {
      "text/plain": [
       "<seaborn.axisgrid.PairGrid at 0x12f90dd0>"
      ]
     },
     "execution_count": 12,
     "metadata": {},
     "output_type": "execute_result"
    },
    {
     "data": {
      "image/png": "[encoded data removed]",
      "text/plain": [
       "<Figure size 352.8x504 with 1 Axes>"
      ]
     },
     "metadata": {},
     "output_type": "display_data"
    }
   ],
   "source": [
    "# Visualize the relationship between the features and the respose of last observations using scatterplots\n",
    "sns.pairplot(data_observations, x_vars='CO2', y_vars='Occupants', height=7, aspect=0.7, kind='reg')"
   ]
  },
  {
   "cell_type": "code",
   "execution_count": 13,
   "metadata": {},
   "outputs": [
    {
     "data": {
      "text/html": [
       "<div>\n",
       "<style scoped>\n",
       "    .dataframe tbody tr th:only-of-type {\n",
       "        vertical-align: middle;\n",
       "    }\n",
       "\n",
       "    .dataframe tbody tr th {\n",
       "        vertical-align: top;\n",
       "    }\n",
       "\n",
       "    .dataframe thead th {\n",
       "        text-align: right;\n",
       "    }\n",
       "</style>\n",
       "<table border=\"1\" class=\"dataframe\">\n",
       "  <thead>\n",
       "    <tr style=\"text-align: right;\">\n",
       "      <th></th>\n",
       "      <th>CO2</th>\n",
       "    </tr>\n",
       "  </thead>\n",
       "  <tbody>\n",
       "    <tr>\n",
       "      <th>0</th>\n",
       "      <td>548.00</td>\n",
       "    </tr>\n",
       "    <tr>\n",
       "      <th>1</th>\n",
       "      <td>661.76</td>\n",
       "    </tr>\n",
       "    <tr>\n",
       "      <th>2</th>\n",
       "      <td>465.95</td>\n",
       "    </tr>\n",
       "    <tr>\n",
       "      <th>3</th>\n",
       "      <td>478.72</td>\n",
       "    </tr>\n",
       "    <tr>\n",
       "      <th>4</th>\n",
       "      <td>482.88</td>\n",
       "    </tr>\n",
       "  </tbody>\n",
       "</table>\n",
       "</div>"
      ],
      "text/plain": [
       "      CO2\n",
       "0  548.00\n",
       "1  661.76\n",
       "2  465.95\n",
       "3  478.72\n",
       "4  482.88"
      ]
     },
     "execution_count": 13,
     "metadata": {},
     "output_type": "execute_result"
    }
   ],
   "source": [
    "# --- Training and Testing sets ---\n",
    "\n",
    "# Create a Python list of feature name\n",
    "feature_cols = ['CO2']\n",
    "\n",
    "# Use the list to select a subset of the original Dataframe\n",
    "X = data_observations[feature_cols]\n",
    "\n",
    "# Print the first 5 rows\n",
    "X.head()"
   ]
  },
  {
   "cell_type": "code",
   "execution_count": 14,
   "metadata": {},
   "outputs": [
    {
     "name": "stdout",
     "output_type": "stream",
     "text": [
      "<class 'pandas.core.frame.DataFrame'>\n",
      "(91, 1)\n"
     ]
    }
   ],
   "source": [
    "# Checks the type and shape of X\n",
    "print(type(X))\n",
    "print(X.shape)"
   ]
  },
  {
   "cell_type": "code",
   "execution_count": 15,
   "metadata": {
    "scrolled": true
   },
   "outputs": [
    {
     "data": {
      "text/plain": [
       "0     0\n",
       "1     1\n",
       "2    10\n",
       "3    12\n",
       "4     0\n",
       "Name: Occupants, dtype: int64"
      ]
     },
     "execution_count": 15,
     "metadata": {},
     "output_type": "execute_result"
    }
   ],
   "source": [
    "# Select a series from the DataFrame\n",
    "y = data_observations['Occupants']\n",
    "\n",
    "# Print the first 5 values\n",
    "y.head()"
   ]
  },
  {
   "cell_type": "code",
   "execution_count": 16,
   "metadata": {},
   "outputs": [
    {
     "name": "stdout",
     "output_type": "stream",
     "text": [
      "<class 'pandas.core.series.Series'>\n",
      "(91,)\n"
     ]
    }
   ],
   "source": [
    "# Check the type and shape of y\n",
    "print(type(y))\n",
    "print(y.shape)"
   ]
  },
  {
   "cell_type": "code",
   "execution_count": 17,
   "metadata": {},
   "outputs": [],
   "source": [
    "# Creates training sets and testing sets\n",
    "# Default is 75% for training and 25% for testing \n",
    "# Changed to 70% for training and 30% for testing due to low dataset size\n",
    "X_train, X_test, y_train, y_test = train_test_split(X, y, test_size=0.30, random_state=0)"
   ]
  },
  {
   "cell_type": "code",
   "execution_count": 18,
   "metadata": {},
   "outputs": [
    {
     "name": "stdout",
     "output_type": "stream",
     "text": [
      "(63, 1)\n",
      "(63,)\n",
      "(28, 1)\n",
      "(28,)\n"
     ]
    }
   ],
   "source": [
    "# Check the training and testing set shapes\n",
    "print(X_train.shape)\n",
    "print(y_train.shape)\n",
    "print(X_test.shape)\n",
    "print(y_test.shape)"
   ]
  },
  {
   "cell_type": "code",
   "execution_count": 19,
   "metadata": {
    "scrolled": false
   },
   "outputs": [
    {
     "name": "stdout",
     "output_type": "stream",
     "text": [
      "r^2 on test data : 0.045689\n",
      "coefficient : -0.029075\n",
      "intercept : 24.228600\n"
     ]
    }
   ],
   "source": [
    "# --- Building Models ---\n",
    "\n",
    "# Elastic Net\n",
    "enet = ElasticNet(alpha=0.1, l1_ratio=0.1, random_state=0)\n",
    "\n",
    "enet.fit(X_train, y_train)\n",
    "\n",
    "y_pred_enet = enet.predict(X_test)\n",
    "                                                 \n",
    "r2_score_enet = r2_score(y_test, y_pred_enet)\n",
    "                                                 \n",
    "print(\"r^2 on test data : %f\" % r2_score_enet)\n",
    "\n",
    "print(\"coefficient : %f\" % enet.coef_)\n",
    "\n",
    "print(\"intercept : %f\" % enet.intercept_)"
   ]
  },
  {
   "cell_type": "code",
   "execution_count": 20,
   "metadata": {},
   "outputs": [
    {
     "name": "stdout",
     "output_type": "stream",
     "text": [
      "r^2 on test data : 0.045692\n",
      "coefficient: -0.029065\n",
      "intercept: 24.222982\n"
     ]
    }
   ],
   "source": [
    "# Lasso\n",
    "las = Lasso(alpha=0.1, random_state=0)\n",
    "\n",
    "las.fit(X_train, y_train)\n",
    "\n",
    "y_pred_las = las.predict(X_test)\n",
    "\n",
    "r2_score_las = r2_score(y_test, y_pred_las)\n",
    "\n",
    "print(\"r^2 on test data : %f\" % r2_score_las)\n",
    "\n",
    "print(\"coefficient: %f\" % las.coef_)\n",
    "\n",
    "print(\"intercept: %f\" % las.intercept_)"
   ]
  },
  {
   "cell_type": "code",
   "execution_count": 21,
   "metadata": {
    "scrolled": true
   },
   "outputs": [
    {
     "name": "stdout",
     "output_type": "stream",
     "text": [
      "r^2 on test data : 0.045689\n",
      "coefficient : -0.029077\n",
      "intercept : 24.229409\n"
     ]
    }
   ],
   "source": [
    "# Ridge\n",
    "rid = Ridge(alpha=0.1, random_state=0)\n",
    "\n",
    "rid.fit(X_train, y_train)\n",
    "\n",
    "y_pred_rid = rid.predict(X_test)\n",
    "\n",
    "r2_score_rid = r2_score(y_test, y_pred_rid)\n",
    "\n",
    "print(\"r^2 on test data : %f\" % r2_score_rid)\n",
    "\n",
    "print(\"coefficient : %f\" % rid.coef_)\n",
    "\n",
    "print(\"intercept : %f\" % rid.intercept_)"
   ]
  },
  {
   "cell_type": "code",
   "execution_count": 22,
   "metadata": {},
   "outputs": [
    {
     "data": {
      "text/plain": [
       "0.04568927551205737"
      ]
     },
     "execution_count": 22,
     "metadata": {},
     "output_type": "execute_result"
    }
   ],
   "source": [
    "# --- Performance Comparison --- (it's the r2 score so how much co2 has an effect on number of occupants)\n",
    "\n",
    "# Elastic Net - r2 score (higher is better)\n",
    "enet.score(X_test, y_test)"
   ]
  },
  {
   "cell_type": "code",
   "execution_count": 23,
   "metadata": {},
   "outputs": [
    {
     "name": "stdout",
     "output_type": "stream",
     "text": [
      "8.60921243085486\n"
     ]
    }
   ],
   "source": [
    "# Elastic Net - root mean squared error (predict bias, lower is better)\n",
    "print(np.sqrt(mean_squared_error(y_test, y_pred_enet)))"
   ]
  },
  {
   "cell_type": "code",
   "execution_count": 24,
   "metadata": {},
   "outputs": [
    {
     "data": {
      "text/plain": [
       "0.04569208081932841"
      ]
     },
     "execution_count": 24,
     "metadata": {},
     "output_type": "execute_result"
    }
   ],
   "source": [
    "# Lasso - r2 score\n",
    "las.score(X_test, y_test)"
   ]
  },
  {
   "cell_type": "code",
   "execution_count": 25,
   "metadata": {},
   "outputs": [
    {
     "name": "stdout",
     "output_type": "stream",
     "text": [
      "8.609199776955371\n"
     ]
    }
   ],
   "source": [
    "# Lasso - root mean squared error\n",
    "print(np.sqrt(mean_squared_error(y_test, y_pred_las)))"
   ]
  },
  {
   "cell_type": "code",
   "execution_count": 26,
   "metadata": {
    "scrolled": true
   },
   "outputs": [
    {
     "data": {
      "text/plain": [
       "0.04568887071875638"
      ]
     },
     "execution_count": 26,
     "metadata": {},
     "output_type": "execute_result"
    }
   ],
   "source": [
    "# Ridge - r2 score\n",
    "rid.score(X_test, y_test)"
   ]
  },
  {
   "cell_type": "code",
   "execution_count": 27,
   "metadata": {},
   "outputs": [
    {
     "name": "stdout",
     "output_type": "stream",
     "text": [
      "8.609214256754465\n"
     ]
    }
   ],
   "source": [
    "# Ridge - root mean squared error\n",
    "print(np.sqrt(mean_squared_error(y_test, y_pred_rid)))"
   ]
  },
  {
   "cell_type": "code",
   "execution_count": 28,
   "metadata": {},
   "outputs": [],
   "source": [
    "# --- Prediction ---\n",
    "\n",
    "roomCO2 = 552.96\n",
    "\n",
    "# Elastic Net\n",
    "y_new_pred_enet = enet.predict([[roomCO2]])\n",
    "\n",
    "# Lasso\n",
    "y_new_pred_las = las.predict([[roomCO2]])\n",
    "\n",
    "# Ridge\n",
    "y_new_pred_rid = rid.predict([[roomCO2]])"
   ]
  },
  {
   "cell_type": "code",
   "execution_count": 29,
   "metadata": {},
   "outputs": [
    {
     "name": "stdout",
     "output_type": "stream",
     "text": [
      "Elastic Net : Predicted=8.15107065161462\n",
      "Lasso : Predicted=8.15118084176438\n",
      "Ridge : Predicted=8.15105480006019\n"
     ]
    }
   ],
   "source": [
    "# --- Print Results ---\n",
    "\n",
    "# Elastic Net\n",
    "print(\"Elastic Net : Predicted=%s\" % (y_new_pred_enet[0]))\n",
    "\n",
    "# Lasso\n",
    "print(\"Lasso : Predicted=%s\" % (y_new_pred_las[0]))\n",
    "\n",
    "# Ridge\n",
    "print(\"Ridge : Predicted=%s\" % (y_new_pred_rid[0]))"
   ]
  }
 ],
 "metadata": {
  "kernelspec": {
   "display_name": "Python 3",
   "language": "python",
   "name": "python3"
  },
  "language_info": {
   "codemirror_mode": {
    "name": "ipython",
    "version": 3
   },
   "file_extension": ".py",
   "mimetype": "text/x-python",
   "name": "python",
   "nbconvert_exporter": "python",
   "pygments_lexer": "ipython3",
   "version": "3.7.3"
  }
 },
 "nbformat": 4,
 "nbformat_minor": 2
}
