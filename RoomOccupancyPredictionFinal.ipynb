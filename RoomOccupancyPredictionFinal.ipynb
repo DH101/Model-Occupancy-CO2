{
 "cells": [
  {
   "cell_type": "code",
   "execution_count": 1,
   "metadata": {},
   "outputs": [],
   "source": [
    "# Conventional way to import pandas\n",
    "import pandas as pd\n",
    "# Conventional way to import seaborn\n",
    "import seaborn as sns\n",
    "# Conventional way to import train_test_split that splits sets into training and testing sets\n",
    "from sklearn.model_selection import train_test_split\n",
    "# Conventional way to import numpy\n",
    "import numpy as np\n",
    "# Conventional way to import pyplot\n",
    "import matplotlib.pyplot as plt\n",
    "# Import r2 score\n",
    "from sklearn.metrics import r2_score\n",
    "# Import mean squared error to get prediction errors. How far data points are from the regression line. Lower is better. Used after r2 as it does not determine whether coefficient estimates and predictions are biased (checks if there are more data under the line and more data above the line which r2 score can't do) \n",
    "from sklearn.metrics import mean_squared_error\n",
    "# Import ElasticNet model\n",
    "from sklearn.linear_model import ElasticNet\n",
    "\n",
    "# Allow plots to appear within the notebook\n",
    "%matplotlib inline"
   ]
  },
  {
   "cell_type": "code",
   "execution_count": 2,
   "metadata": {},
   "outputs": [],
   "source": [
    "# --- Importing datasets ---\n",
    "# Save the Paths to CSV data\n",
    "all_room_observation_path = r'C:\\Users\\deano\\OneDrive\\Documents\\University_Courses\\Year_Three\\CSC3095_Dissertation\\Datasets\\CSV_Format\\AllData\\LastObservationOfCO2AndOccupants.csv'\n",
    "all_room_observation_with_time_path = r'C:\\Users\\deano\\OneDrive\\Documents\\University_Courses\\Year_Three\\CSC3095_Dissertation\\Datasets\\CSV_Format\\AllData\\LastObservationOfCO2AndOccupantsWithTime.csv'\n",
    "all_room_window_observation = r'C:\\Users\\deano\\OneDrive\\Documents\\University_Courses\\Year_Three\\CSC3095_Dissertation\\Datasets\\CSV_Format\\AllData\\WindowOfObservationsOfCO2AndOccupants.csv'"
   ]
  },
  {
   "cell_type": "code",
   "execution_count": 3,
   "metadata": {},
   "outputs": [],
   "source": [
    "# Save a dictionary of all Paths to CSV files\n",
    "observations = {'all_room': all_room_observation_path, 'all_room_with_time': all_room_observation_with_time_path, 'all_room_window_observation': all_room_window_observation}"
   ]
  },
  {
   "cell_type": "code",
   "execution_count": 4,
   "metadata": {
    "scrolled": false
   },
   "outputs": [],
   "source": [
    "# Read Observations CSV file directly from file path and save results\n",
    "data_observations = pd.read_csv(observations['all_room_window_observation'])"
   ]
  },
  {
   "cell_type": "code",
   "execution_count": 5,
   "metadata": {
    "scrolled": true
   },
   "outputs": [
    {
     "data": {
      "text/html": [
       "<div>\n",
       "<style scoped>\n",
       "    .dataframe tbody tr th:only-of-type {\n",
       "        vertical-align: middle;\n",
       "    }\n",
       "\n",
       "    .dataframe tbody tr th {\n",
       "        vertical-align: top;\n",
       "    }\n",
       "\n",
       "    .dataframe thead th {\n",
       "        text-align: right;\n",
       "    }\n",
       "</style>\n",
       "<table border=\"1\" class=\"dataframe\">\n",
       "  <thead>\n",
       "    <tr style=\"text-align: right;\">\n",
       "      <th></th>\n",
       "      <th>Time20Mins</th>\n",
       "      <th>CO220Mins</th>\n",
       "      <th>Time10Mins</th>\n",
       "      <th>CO210Mins</th>\n",
       "      <th>Time</th>\n",
       "      <th>CO2</th>\n",
       "      <th>Occupants</th>\n",
       "    </tr>\n",
       "  </thead>\n",
       "  <tbody>\n",
       "    <tr>\n",
       "      <th>0</th>\n",
       "      <td>0.45</td>\n",
       "      <td>680.96</td>\n",
       "      <td>0.46</td>\n",
       "      <td>752.64</td>\n",
       "      <td>0.47</td>\n",
       "      <td>773.76</td>\n",
       "      <td>2</td>\n",
       "    </tr>\n",
       "    <tr>\n",
       "      <th>1</th>\n",
       "      <td>0.73</td>\n",
       "      <td>516.16</td>\n",
       "      <td>0.74</td>\n",
       "      <td>517.84</td>\n",
       "      <td>0.74</td>\n",
       "      <td>515.84</td>\n",
       "      <td>6</td>\n",
       "    </tr>\n",
       "    <tr>\n",
       "      <th>2</th>\n",
       "      <td>0.57</td>\n",
       "      <td>540.80</td>\n",
       "      <td>0.58</td>\n",
       "      <td>580.80</td>\n",
       "      <td>0.58</td>\n",
       "      <td>652.80</td>\n",
       "      <td>2</td>\n",
       "    </tr>\n",
       "    <tr>\n",
       "      <th>3</th>\n",
       "      <td>0.70</td>\n",
       "      <td>520.80</td>\n",
       "      <td>0.71</td>\n",
       "      <td>516.40</td>\n",
       "      <td>0.72</td>\n",
       "      <td>515.44</td>\n",
       "      <td>14</td>\n",
       "    </tr>\n",
       "    <tr>\n",
       "      <th>4</th>\n",
       "      <td>0.51</td>\n",
       "      <td>462.86</td>\n",
       "      <td>0.52</td>\n",
       "      <td>464.32</td>\n",
       "      <td>0.53</td>\n",
       "      <td>465.32</td>\n",
       "      <td>11</td>\n",
       "    </tr>\n",
       "  </tbody>\n",
       "</table>\n",
       "</div>"
      ],
      "text/plain": [
       "   Time20Mins  CO220Mins  Time10Mins  CO210Mins  Time     CO2  Occupants\n",
       "0        0.45     680.96        0.46     752.64  0.47  773.76          2\n",
       "1        0.73     516.16        0.74     517.84  0.74  515.84          6\n",
       "2        0.57     540.80        0.58     580.80  0.58  652.80          2\n",
       "3        0.70     520.80        0.71     516.40  0.72  515.44         14\n",
       "4        0.51     462.86        0.52     464.32  0.53  465.32         11"
      ]
     },
     "execution_count": 5,
     "metadata": {},
     "output_type": "execute_result"
    }
   ],
   "source": [
    "# --- Data Exploration ---\n",
    "\n",
    "# Display the first 5 rows of CSV file to verify it's the correct file\n",
    "data_observations.head()"
   ]
  },
  {
   "cell_type": "code",
   "execution_count": 6,
   "metadata": {
    "scrolled": false
   },
   "outputs": [
    {
     "data": {
      "text/html": [
       "<div>\n",
       "<style scoped>\n",
       "    .dataframe tbody tr th:only-of-type {\n",
       "        vertical-align: middle;\n",
       "    }\n",
       "\n",
       "    .dataframe tbody tr th {\n",
       "        vertical-align: top;\n",
       "    }\n",
       "\n",
       "    .dataframe thead th {\n",
       "        text-align: right;\n",
       "    }\n",
       "</style>\n",
       "<table border=\"1\" class=\"dataframe\">\n",
       "  <thead>\n",
       "    <tr style=\"text-align: right;\">\n",
       "      <th></th>\n",
       "      <th>Time20Mins</th>\n",
       "      <th>CO220Mins</th>\n",
       "      <th>Time10Mins</th>\n",
       "      <th>CO210Mins</th>\n",
       "      <th>Time</th>\n",
       "      <th>CO2</th>\n",
       "      <th>Occupants</th>\n",
       "    </tr>\n",
       "  </thead>\n",
       "  <tbody>\n",
       "    <tr>\n",
       "      <th>78</th>\n",
       "      <td>0.46</td>\n",
       "      <td>442.42</td>\n",
       "      <td>0.47</td>\n",
       "      <td>444.05</td>\n",
       "      <td>0.47</td>\n",
       "      <td>444.52</td>\n",
       "      <td>7</td>\n",
       "    </tr>\n",
       "    <tr>\n",
       "      <th>79</th>\n",
       "      <td>0.52</td>\n",
       "      <td>464.32</td>\n",
       "      <td>0.53</td>\n",
       "      <td>465.32</td>\n",
       "      <td>0.53</td>\n",
       "      <td>464.53</td>\n",
       "      <td>11</td>\n",
       "    </tr>\n",
       "    <tr>\n",
       "      <th>80</th>\n",
       "      <td>0.55</td>\n",
       "      <td>465.95</td>\n",
       "      <td>0.56</td>\n",
       "      <td>468.23</td>\n",
       "      <td>0.56</td>\n",
       "      <td>468.69</td>\n",
       "      <td>10</td>\n",
       "    </tr>\n",
       "    <tr>\n",
       "      <th>81</th>\n",
       "      <td>0.47</td>\n",
       "      <td>444.05</td>\n",
       "      <td>0.47</td>\n",
       "      <td>444.52</td>\n",
       "      <td>0.48</td>\n",
       "      <td>448.36</td>\n",
       "      <td>7</td>\n",
       "    </tr>\n",
       "    <tr>\n",
       "      <th>82</th>\n",
       "      <td>0.71</td>\n",
       "      <td>516.40</td>\n",
       "      <td>0.72</td>\n",
       "      <td>515.44</td>\n",
       "      <td>0.72</td>\n",
       "      <td>514.40</td>\n",
       "      <td>9</td>\n",
       "    </tr>\n",
       "  </tbody>\n",
       "</table>\n",
       "</div>"
      ],
      "text/plain": [
       "    Time20Mins  CO220Mins  Time10Mins  CO210Mins  Time     CO2  Occupants\n",
       "78        0.46     442.42        0.47     444.05  0.47  444.52          7\n",
       "79        0.52     464.32        0.53     465.32  0.53  464.53         11\n",
       "80        0.55     465.95        0.56     468.23  0.56  468.69         10\n",
       "81        0.47     444.05        0.47     444.52  0.48  448.36          7\n",
       "82        0.71     516.40        0.72     515.44  0.72  514.40          9"
      ]
     },
     "execution_count": 6,
     "metadata": {},
     "output_type": "execute_result"
    }
   ],
   "source": [
    "# Display the last 5 rows\n",
    "data_observations.tail()"
   ]
  },
  {
   "cell_type": "code",
   "execution_count": 7,
   "metadata": {
    "scrolled": true
   },
   "outputs": [
    {
     "data": {
      "text/plain": [
       "Time20Mins    float64\n",
       "CO220Mins     float64\n",
       "Time10Mins    float64\n",
       "CO210Mins     float64\n",
       "Time          float64\n",
       "CO2           float64\n",
       "Occupants       int64\n",
       "dtype: object"
      ]
     },
     "execution_count": 7,
     "metadata": {},
     "output_type": "execute_result"
    }
   ],
   "source": [
    "# Display the different datatypes available\n",
    "data_observations.dtypes"
   ]
  },
  {
   "cell_type": "code",
   "execution_count": 8,
   "metadata": {},
   "outputs": [
    {
     "data": {
      "text/plain": [
       "(83, 7)"
      ]
     },
     "execution_count": 8,
     "metadata": {},
     "output_type": "execute_result"
    }
   ],
   "source": [
    "# Check the shape of the Dataframe (rows, columns)\n",
    "data_observations.shape"
   ]
  },
  {
   "cell_type": "code",
   "execution_count": 9,
   "metadata": {},
   "outputs": [],
   "source": [
    "# --- Data Visualization ---\n",
    "\n",
    "# Set the background colour of the plots to white\n",
    "sns.set(style=\"whitegrid\", color_codes=True)"
   ]
  },
  {
   "cell_type": "code",
   "execution_count": 10,
   "metadata": {
    "scrolled": false
   },
   "outputs": [
    {
     "data": {
      "text/plain": [
       "<matplotlib.axes._subplots.AxesSubplot at 0x127b2d70>"
      ]
     },
     "execution_count": 10,
     "metadata": {},
     "output_type": "execute_result"
    },
    {
     "data": {
      "image/png": "[encoded data removed]",
      "text/plain": [
       "<Figure size 432x288 with 1 Axes>"
      ]
     },
     "metadata": {},
     "output_type": "display_data"
    }
   ],
   "source": [
    "sns.countplot('Occupants', data=data_observations)"
   ]
  },
  {
   "cell_type": "code",
   "execution_count": 11,
   "metadata": {},
   "outputs": [
    {
     "data": {
      "text/plain": [
       "<matplotlib.axes._subplots.AxesSubplot at 0x1388b850>"
      ]
     },
     "execution_count": 11,
     "metadata": {},
     "output_type": "execute_result"
    },
    {
     "data": {
      "image/png": "[encoded data removed]",
      "text/plain": [
       "<Figure size 432x288 with 1 Axes>"
      ]
     },
     "metadata": {},
     "output_type": "display_data"
    }
   ],
   "source": [
    "# Plots violin plot to see distribution of data\n",
    "sns.violinplot(data=data_observations)"
   ]
  },
  {
   "cell_type": "code",
   "execution_count": 12,
   "metadata": {
    "scrolled": true
   },
   "outputs": [
    {
     "data": {
      "text/plain": [
       "<seaborn.axisgrid.PairGrid at 0x138ef6b0>"
      ]
     },
     "execution_count": 12,
     "metadata": {},
     "output_type": "execute_result"
    },
    {
     "data": {
      "image/png": "[encoded data removed]",
      "text/plain": [
       "<Figure size 352.8x504 with 1 Axes>"
      ]
     },
     "metadata": {},
     "output_type": "display_data"
    }
   ],
   "source": [
    "# Visualize the relationship between the features and the respose of last observations using scatterplots\n",
    "sns.pairplot(data_observations, x_vars='CO2', y_vars='Occupants', height=7, aspect=0.7, kind='reg')"
   ]
  },
  {
   "cell_type": "code",
   "execution_count": 13,
   "metadata": {},
   "outputs": [
    {
     "data": {
      "text/html": [
       "<div>\n",
       "<style scoped>\n",
       "    .dataframe tbody tr th:only-of-type {\n",
       "        vertical-align: middle;\n",
       "    }\n",
       "\n",
       "    .dataframe tbody tr th {\n",
       "        vertical-align: top;\n",
       "    }\n",
       "\n",
       "    .dataframe thead th {\n",
       "        text-align: right;\n",
       "    }\n",
       "</style>\n",
       "<table border=\"1\" class=\"dataframe\">\n",
       "  <thead>\n",
       "    <tr style=\"text-align: right;\">\n",
       "      <th></th>\n",
       "      <th>Time20Mins</th>\n",
       "      <th>CO220Mins</th>\n",
       "      <th>Time10Mins</th>\n",
       "      <th>CO210Mins</th>\n",
       "      <th>Time</th>\n",
       "      <th>CO2</th>\n",
       "    </tr>\n",
       "  </thead>\n",
       "  <tbody>\n",
       "    <tr>\n",
       "      <th>0</th>\n",
       "      <td>0.45</td>\n",
       "      <td>680.96</td>\n",
       "      <td>0.46</td>\n",
       "      <td>752.64</td>\n",
       "      <td>0.47</td>\n",
       "      <td>773.76</td>\n",
       "    </tr>\n",
       "    <tr>\n",
       "      <th>1</th>\n",
       "      <td>0.73</td>\n",
       "      <td>516.16</td>\n",
       "      <td>0.74</td>\n",
       "      <td>517.84</td>\n",
       "      <td>0.74</td>\n",
       "      <td>515.84</td>\n",
       "    </tr>\n",
       "    <tr>\n",
       "      <th>2</th>\n",
       "      <td>0.57</td>\n",
       "      <td>540.80</td>\n",
       "      <td>0.58</td>\n",
       "      <td>580.80</td>\n",
       "      <td>0.58</td>\n",
       "      <td>652.80</td>\n",
       "    </tr>\n",
       "    <tr>\n",
       "      <th>3</th>\n",
       "      <td>0.70</td>\n",
       "      <td>520.80</td>\n",
       "      <td>0.71</td>\n",
       "      <td>516.40</td>\n",
       "      <td>0.72</td>\n",
       "      <td>515.44</td>\n",
       "    </tr>\n",
       "    <tr>\n",
       "      <th>4</th>\n",
       "      <td>0.51</td>\n",
       "      <td>462.86</td>\n",
       "      <td>0.52</td>\n",
       "      <td>464.32</td>\n",
       "      <td>0.53</td>\n",
       "      <td>465.32</td>\n",
       "    </tr>\n",
       "  </tbody>\n",
       "</table>\n",
       "</div>"
      ],
      "text/plain": [
       "   Time20Mins  CO220Mins  Time10Mins  CO210Mins  Time     CO2\n",
       "0        0.45     680.96        0.46     752.64  0.47  773.76\n",
       "1        0.73     516.16        0.74     517.84  0.74  515.84\n",
       "2        0.57     540.80        0.58     580.80  0.58  652.80\n",
       "3        0.70     520.80        0.71     516.40  0.72  515.44\n",
       "4        0.51     462.86        0.52     464.32  0.53  465.32"
      ]
     },
     "execution_count": 13,
     "metadata": {},
     "output_type": "execute_result"
    }
   ],
   "source": [
    "# --- Training and Testing sets ---\n",
    "\n",
    "# Create a Python list of feature name\n",
    "feature_cols = ['Time20Mins', 'CO220Mins', 'Time10Mins', 'CO210Mins', 'Time', 'CO2']\n",
    "\n",
    "# Use the list to select a subset of the original Dataframe\n",
    "X = data_observations[feature_cols]\n",
    "\n",
    "# Print the first 5 rows\n",
    "X.head()"
   ]
  },
  {
   "cell_type": "code",
   "execution_count": 14,
   "metadata": {
    "scrolled": true
   },
   "outputs": [
    {
     "name": "stdout",
     "output_type": "stream",
     "text": [
      "<class 'pandas.core.frame.DataFrame'>\n",
      "(83, 6)\n"
     ]
    }
   ],
   "source": [
    "# Checks the type and shape of X\n",
    "print(type(X))\n",
    "print(X.shape)"
   ]
  },
  {
   "cell_type": "code",
   "execution_count": 15,
   "metadata": {
    "scrolled": true
   },
   "outputs": [
    {
     "data": {
      "text/plain": [
       "0     2\n",
       "1     6\n",
       "2     2\n",
       "3    14\n",
       "4    11\n",
       "Name: Occupants, dtype: int64"
      ]
     },
     "execution_count": 15,
     "metadata": {},
     "output_type": "execute_result"
    }
   ],
   "source": [
    "# Select a series from the DataFrame\n",
    "y = data_observations['Occupants']\n",
    "\n",
    "# Print the first 5 values\n",
    "y.head()"
   ]
  },
  {
   "cell_type": "code",
   "execution_count": 16,
   "metadata": {},
   "outputs": [
    {
     "name": "stdout",
     "output_type": "stream",
     "text": [
      "<class 'pandas.core.series.Series'>\n",
      "(83,)\n"
     ]
    }
   ],
   "source": [
    "# Check the type and shape of y\n",
    "print(type(y))\n",
    "print(y.shape)"
   ]
  },
  {
   "cell_type": "code",
   "execution_count": 17,
   "metadata": {},
   "outputs": [],
   "source": [
    "# Creates training sets and testing sets\n",
    "# Default is 75% for training and 25% for testing \n",
    "# Changed to 70% for training and 30% for testing due to low dataset size\n",
    "X_train, X_test, y_train, y_test = train_test_split(X, y, test_size=0.30, random_state=0)"
   ]
  },
  {
   "cell_type": "code",
   "execution_count": 18,
   "metadata": {},
   "outputs": [
    {
     "name": "stdout",
     "output_type": "stream",
     "text": [
      "(58, 6)\n",
      "(58,)\n",
      "(25, 6)\n",
      "(25,)\n"
     ]
    }
   ],
   "source": [
    "# Check the training and testing set shapes\n",
    "print(X_train.shape)\n",
    "print(y_train.shape)\n",
    "print(X_test.shape)\n",
    "print(y_test.shape)"
   ]
  },
  {
   "cell_type": "code",
   "execution_count": 19,
   "metadata": {
    "scrolled": true
   },
   "outputs": [],
   "source": [
    "# --- Building Model ---\n",
    "\n",
    "# Elastic Net\n",
    "enet = ElasticNet(alpha=0.1, l1_ratio=0.1, random_state=0)\n",
    "\n",
    "enet.fit(X_train, y_train)\n",
    "\n",
    "y_pred_enet = enet.predict(X_test)"
   ]
  },
  {
   "cell_type": "code",
   "execution_count": 20,
   "metadata": {},
   "outputs": [
    {
     "data": {
      "text/plain": [
       "0.11328198064682249"
      ]
     },
     "execution_count": 20,
     "metadata": {},
     "output_type": "execute_result"
    }
   ],
   "source": [
    "# --- Performance Comparison ---\n",
    "\n",
    "# Elastic Net - r2 (higher is better)\n",
    "enet.score(X_test, y_test)"
   ]
  },
  {
   "cell_type": "code",
   "execution_count": 21,
   "metadata": {
    "scrolled": true
   },
   "outputs": [
    {
     "name": "stdout",
     "output_type": "stream",
     "text": [
      "7.279831305179383\n"
     ]
    }
   ],
   "source": [
    "# Elastic Net - root mean squared error (predict bias, lower is better)\n",
    "print(np.sqrt(mean_squared_error(y_test, y_pred_enet)))"
   ]
  },
  {
   "cell_type": "code",
   "execution_count": 22,
   "metadata": {},
   "outputs": [],
   "source": [
    "# --- Prediction ---\n",
    "\n",
    "Time20Mins = 0.583333333333333\n",
    "\n",
    "CO220Mins = 495.431111111111\n",
    "\n",
    "Time10Mins = 0.590277777777778\n",
    "\n",
    "CO210Mins = 494.897777777777\n",
    "\n",
    "Time = 0.597222222222222\n",
    "\n",
    "roomCO2 = 495.111111111111\n",
    "\n",
    "# Elastic Net\n",
    "y_new_pred_enet = enet.predict([[Time20Mins, CO220Mins, Time10Mins, CO210Mins, Time, roomCO2]])\n"
   ]
  },
  {
   "cell_type": "code",
   "execution_count": 23,
   "metadata": {},
   "outputs": [
    {
     "name": "stdout",
     "output_type": "stream",
     "text": [
      "Elastic Net : Predicted = 10\n"
     ]
    }
   ],
   "source": [
    "# --- Print Results ---\n",
    "\n",
    "# Elastic Net\n",
    "print(\"Elastic Net : Predicted = %d\" % (y_new_pred_enet[0]))"
   ]
  }
 ],
 "metadata": {
  "kernelspec": {
   "display_name": "Python 3",
   "language": "python",
   "name": "python3"
  },
  "language_info": {
   "codemirror_mode": {
    "name": "ipython",
    "version": 3
   },
   "file_extension": ".py",
   "mimetype": "text/x-python",
   "name": "python",
   "nbconvert_exporter": "python",
   "pygments_lexer": "ipython3",
   "version": "3.7.3"
  }
 },
 "nbformat": 4,
 "nbformat_minor": 2
}
